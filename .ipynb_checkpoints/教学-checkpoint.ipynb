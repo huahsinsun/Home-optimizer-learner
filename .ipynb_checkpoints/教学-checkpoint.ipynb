{
 "cells": [
  {
   "cell_type": "markdown",
   "id": "initial_id",
   "metadata": {
    "collapsed": true,
    "jupyter": {
     "outputs_hidden": true
    }
   },
   "source": [
    "## DOcplex modelling 案例"
   ]
  },
  {
   "cell_type": "markdown",
   "id": "8ac569e9-b119-4497-91ce-1d01f4647258",
   "metadata": {},
   "source": [
    "### 一个NLP(non-linear programming)例子\n",
    "$$\n",
    "\\text{Maximize } Z = x_1 + x_2\n",
    "$$\n",
    "$$\n",
    "\\text{Subject to:}\n",
    "$$\n",
    "$$\n",
    "\\begin{align}\n",
    "1. & \\quad x_1 + x_2 \\leq 10 \\\\\n",
    "& \\quad x_1 \\cdot x_2 \\geq 10 \\\\\n",
    "3. & \\quad x_1 \\geq 0 \\\\\n",
    "& \\quad x_2 \\geq 0 \\\\\n",
    "\\end{align}\n",
    "$$"
   ]
  },
  {
   "cell_type": "code",
   "execution_count": 6,
   "id": "913dafaf",
   "metadata": {
    "ExecuteTime": {
     "end_time": "2025-03-02T12:36:20.603099Z",
     "start_time": "2025-03-02T12:36:20.570555Z"
    }
   },
   "outputs": [
    {
     "name": "stdout",
     "output_type": "stream",
     "text": [
      "solution is found\n",
      "x1:4.9999999966802555,x2:4.9999999966802555\n",
      "objective value:9.999999993360511\n"
     ]
    }
   ],
   "source": [
    "from docplex.mp.model import Model\n",
    "# 创建一个模型\n",
    "mdl = Model(name=\"this is a demo \") # 创建一个模型\n",
    "# 定义决策变量\n",
    "x1 = mdl.continuous_var(name = 'x1',lb=0) # 先定义决策变量,在定义目标函数\n",
    "x2 = mdl.continuous_var(name = \"x2\",lb=0)\n",
    "# 定义目标函数\n",
    "mdl.maximize(x1 + x2)\n",
    "# 定义约束\n",
    "mdl.add_constraint(x1 + x2 <= 10)\n",
    "mdl.add_constraint(x1*x2 >= 10)\n",
    "# 求解模型\n",
    "solution = mdl.solve()\n",
    "# 输出结果\n",
    "if solution:\n",
    "    print(\"solution is found\")\n",
    "    print(f\"x1:{x1.solution_value},x2:{x2.solution_value}\")\n",
    "    print(f\"objective value:{mdl.objective_value}\")\n",
    "else:\n",
    "    print(\"solution is not found\")\n"
   ]
  },
  {
   "cell_type": "code",
   "execution_count": null,
   "id": "e54dc009",
   "metadata": {},
   "outputs": [],
   "source": []
  }
 ],
 "metadata": {
  "kernelspec": {
   "display_name": "Python 3 (ipykernel)",
   "language": "python",
   "name": "python3"
  },
  "language_info": {
   "codemirror_mode": {
    "name": "ipython",
    "version": 3
   },
   "file_extension": ".py",
   "mimetype": "text/x-python",
   "name": "python",
   "nbconvert_exporter": "python",
   "pygments_lexer": "ipython3",
   "version": "3.9.21"
  }
 },
 "nbformat": 4,
 "nbformat_minor": 5
}
