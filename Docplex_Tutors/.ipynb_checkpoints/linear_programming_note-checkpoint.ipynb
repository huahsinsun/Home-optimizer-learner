{
 "cells": [
  {
   "cell_type": "markdown",
   "id": "8c905042",
   "metadata": {
    "ExecuteTime": {
     "end_time": "2025-04-12T06:11:37.262113Z",
     "start_time": "2025-04-12T06:11:37.248114Z"
    },
    "collapsed": true
   },
   "source": [
    "# Tutorial: Linear Programming, (CPLEX Part 1)\n",
    "This notebook is part of **[Prescriptive Analytics for Python](http://ibmdecisionoptimization.github.io/docplex-doc/)**"
   ]
  },
  {
   "cell_type": "markdown",
   "id": "294efc8b",
   "metadata": {},
   "source": [
    "## What is a Linear expression?\n",
    "\n",
    "**核心要点：**\n",
    "\n",
    "*   **线性表达式的要求：** 只能包含变量的常数倍数（例如：2x, -5y, 0.3z）和常数项（例如：5, -10, 3.14）。\n",
    "*   **不允许出现的项：**\n",
    "    *   **变量相乘：** 两个或多个变量相乘的项（如：x\\*y, a\\*b\\*c, xz）\n",
    "    *   **高阶项：** 变量的平方、立方或更高次方的项（如：x², y³, z⁴）\n",
    "    *   **指数：** 变量作为指数的项（如：2ˣ, eʸ）\n",
    "    *   **对数：** 变量在对数函数中的项（如：log(x), ln(y)）\n",
    "    *   **绝对值：** 变量在绝对值符号内的项（如：|x|, |y-2|）\n"
   ]
  },
  {
   "cell_type": "markdown",
   "id": "ef33fd44",
   "metadata": {},
   "source": [
    "**什么是线性约束？**\n",
    "\n",
    "线性约束是指可以用以下等式或不等式来表示的约束条件：\n",
    "\n",
    "*   `线性表达式 = 线性表达式`  可以表示为  `ax₁ + bx₂ + ... + c = dx₁ + ex₂ + ... + f`\n",
    "*   `线性表达式 ≤ 线性表达式`  可以表示为  `ax₁ + bx₂ + ... + c ≤ dx₁ + ex₂ + ... + f`\n",
    "*   `线性表达式 ≥ 线性表达式`  可以表示为  `ax₁ + bx₂ + ... + c ≥ dx₁ + ex₂ + ... + f`\n",
    "\n",
    "其中，$x_1, x_2, ...$ 是变量,  $a, b, c, d, e, f ...$ 是常数。\n",
    "\n",
    "任何线性约束都可以被改写成一个或两个“线性表达式小于等于零”的形式。 例如，  `ax₁ + bx₂ + c ≥ dx₁ + ex₂ + f`  可以改写为  `(d-a)x₁ + (e-b)x₂ + (f-c) ≤ 0`。\n",
    "\n",
    "**注意：** 严格不等号（即 `>` 和 `<`）不允许出现在线性约束中。 线性约束只能使用 `<=`、`>=` 或 `=` 。"
   ]
  },
  {
   "cell_type": "markdown",
   "id": "16260767",
   "metadata": {},
   "source": [
    "## EXAMPLE1\n",
    "\n",
    "$\n",
    "maximize:\\\\\n",
    "\\ \\ 12\\ desk\\_production + 20\\ cell\\_production\\\\\n",
    "subject\\ to: \\\\\n",
    "\\ \\   desk\\_production >= 100 \\\\\n",
    "\\ \\   cell\\_production >= 100 \\\\\n",
    "\\ \\   0.2\\ desk\\_production + 0.4\\ cell\\_production <= 400 \\\\\n",
    "\\ \\   0.5\\ desk\\_production + 0.4\\ cell\\_production <= 490 \\\\\n",
    "$\n"
   ]
  },
  {
   "cell_type": "code",
   "execution_count": 2,
   "id": "0e736dcc",
   "metadata": {},
   "outputs": [],
   "source": [
    "from docplex.mp.model import Model \n",
    "m = Model(name=\"demo\")"
   ]
  },
  {
   "cell_type": "code",
   "execution_count": null,
   "id": "da5701fe",
   "metadata": {},
   "outputs": [],
   "source": [
    "desk = m.cont"
   ]
  }
 ],
 "metadata": {
  "kernelspec": {
   "display_name": "Python 3 (ipykernel)",
   "language": "python",
   "name": "python3"
  },
  "language_info": {
   "codemirror_mode": {
    "name": "ipython",
    "version": 3
   },
   "file_extension": ".py",
   "mimetype": "text/x-python",
   "name": "python",
   "nbconvert_exporter": "python",
   "pygments_lexer": "ipython3",
   "version": "3.7.1"
  }
 },
 "nbformat": 4,
 "nbformat_minor": 5
}
