{
 "cells": [
  {
   "cell_type": "code",
   "execution_count": 1,
   "id": "initial_id",
   "metadata": {
    "ExecuteTime": {
     "end_time": "2025-03-02T06:25:49.597640Z",
     "start_time": "2025-03-02T06:25:49.156572Z"
    }
   },
   "outputs": [],
   "source": [
    "from docplex.mp.model import Model"
   ]
  },
  {
   "cell_type": "code",
   "execution_count": null,
   "id": "d0996f92-19e6-4b08-bead-82e5bdb17251",
   "metadata": {},
   "outputs": [],
   "source": [
    "mdl = Model()\n",
    "mdl = M"
   ]
  },
  {
   "cell_type": "code",
   "execution_count": null,
   "id": "ce0944f7-21f6-492f-b23a-33ea8a08b7de",
   "metadata": {},
   "outputs": [],
   "source": "56"
  }
 ],
 "metadata": {
  "kernelspec": {
   "display_name": "Python 3 (ipykernel)",
   "language": "python",
   "name": "python3"
  },
  "language_info": {
   "codemirror_mode": {
    "name": "ipython",
    "version": 3
   },
   "file_extension": ".py",
   "mimetype": "text/x-python",
   "name": "python",
   "nbconvert_exporter": "python",
   "pygments_lexer": "ipython3",
   "version": "3.9.21"
  }
 },
 "nbformat": 4,
 "nbformat_minor": 5
}
