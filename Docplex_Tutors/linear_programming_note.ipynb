{
 "cells": [
  {
   "cell_type": "markdown",
   "id": "8c905042",
   "metadata": {
    "ExecuteTime": {
     "end_time": "2025-04-12T06:11:37.262113Z",
     "start_time": "2025-04-12T06:11:37.248114Z"
    },
    "collapsed": true
   },
   "source": [
    "# Tutorial: Linear Programming, (CPLEX Part 1)\n",
    "This notebook is part of **[Prescriptive Analytics for Python](http://ibmdecisionoptimization.github.io/docplex-doc/)**"
   ]
  },
  {
   "cell_type": "markdown",
   "id": "294efc8b",
   "metadata": {},
   "source": [
    "## What is a Linear expression?\n",
    "\n",
    "**核心要点：**\n",
    "\n",
    "*   **线性表达式的要求：** 只能包含变量的常数倍数（例如：2x, -5y, 0.3z）和常数项（例如：5, -10, 3.14）。\n",
    "*   **不允许出现的项：**\n",
    "    *   **变量相乘：** 两个或多个变量相乘的项（如：x\\*y, a\\*b\\*c, xz）\n",
    "    *   **高阶项：** 变量的平方、立方或更高次方的项（如：x², y³, z⁴）\n",
    "    *   **指数：** 变量作为指数的项（如：2ˣ, eʸ）\n",
    "    *   **对数：** 变量在对数函数中的项（如：log(x), ln(y)）\n",
    "    *   **绝对值：** 变量在绝对值符号内的项（如：|x|, |y-2|）\n"
   ]
  },
  {
   "cell_type": "markdown",
   "id": "ef33fd44",
   "metadata": {},
   "source": [
    "**什么是线性约束？**\n",
    "\n",
    "线性约束是指可以用以下等式或不等式来表示的约束条件：\n",
    "\n",
    "*   `线性表达式 = 线性表达式`  可以表示为  `ax₁ + bx₂ + ... + c = dx₁ + ex₂ + ... + f`\n",
    "*   `线性表达式 ≤ 线性表达式`  可以表示为  `ax₁ + bx₂ + ... + c ≤ dx₁ + ex₂ + ... + f`\n",
    "*   `线性表达式 ≥ 线性表达式`  可以表示为  `ax₁ + bx₂ + ... + c ≥ dx₁ + ex₂ + ... + f`\n",
    "\n",
    "其中，$x_1, x_2, ...$ 是变量,  $a, b, c, d, e, f ...$ 是常数。\n",
    "\n",
    "任何线性约束都可以被改写成一个或两个“线性表达式小于等于零”的形式。 例如，  `ax₁ + bx₂ + c ≥ dx₁ + ex₂ + f`  可以改写为  `(d-a)x₁ + (e-b)x₂ + (f-c) ≤ 0`。\n",
    "\n",
    "**注意：** 严格不等号（即 `>` 和 `<`）不允许出现在线性约束中。 线性约束只能使用 `<=`、`>=` 或 `=` 。"
   ]
  },
  {
   "cell_type": "markdown",
   "id": "16260767",
   "metadata": {},
   "source": [
    "## EXAMPLE1\n",
    "**电话的建模案例:普通建模,不可行情况与松弛设置**\n",
    "\n",
    "$\n",
    "maximize:\\\\\n",
    "\\ \\ 12\\ desk\\_production + 20\\ cell\\_production\\\\\n",
    "subject\\ to: \\\\\n",
    "\\ \\   desk\\_production >= 100 \\\\\n",
    "\\ \\   cell\\_production >= 100 \\\\\n",
    "\\ \\   0.2\\ desk\\_production + 0.4\\ cell\\_production <= 400 \\\\\n",
    "\\ \\   0.5\\ desk\\_production + 0.4\\ cell\\_production <= 490 \\\\\n",
    "$\n",
    "* assembly time,paiting time is for 0.2,0.5 of desk_prod\n",
    "* desk_product 数量应该大于等于100\n",
    "* cell_product 数量大于等于100\n",
    "* desk_product  DeskProduction 的组装时间加上 CellProduction 的组装时间不应超过 400 小时。\n",
    "* desk_product DeskProduction 的喷涂时间加上 CellProduction 的喷涂时间不应超过 490 小时。\n"
   ]
  },
  {
   "cell_type": "code",
   "execution_count": 4,
   "id": "0e736dcc",
   "metadata": {
    "ExecuteTime": {
     "end_time": "2025-04-12T06:32:17.127465Z",
     "start_time": "2025-04-12T06:32:16.856582Z"
    }
   },
   "outputs": [],
   "source": [
    "from docplex.mp.model import Model \n",
    "m = Model(name=\"demo\") # "
   ]
  },
  {
   "cell_type": "code",
   "execution_count": 5,
   "id": "da5701fe",
   "metadata": {
    "ExecuteTime": {
     "end_time": "2025-04-12T06:32:17.142467Z",
     "start_time": "2025-04-12T06:32:17.135582Z"
    }
   },
   "outputs": [
    {
     "name": "stdout",
     "output_type": "stream",
     "text": [
      "Model: demo\n",
      " - number of variables: 2\n",
      "   - binary=0, integer=0, continuous=2\n",
      " - number of constraints: 3\n",
      "   - linear=3\n",
      " - parameters: defaults\n",
      " - problem type is: LP\n",
      "solution for: demo\n",
      "objective: 20600\n",
      "desk=300.000\n",
      "cell=850.000\n",
      "\n"
     ]
    }
   ],
   "source": [
    "desk = m.continuous_var(name=\"desk\",lb=0)  # 定义连续变量desk，表示桌子的生产量\n",
    "cell = m.continuous_var(name=\"cell\",lb=0)  # 定义连续变量cell，表示手机的生产量\n",
    "m.add_constraint(desk >= 100)  \n",
    "m.add_constraint(cell >= 100)  \n",
    "m.add_constraint(0.2 * desk + 0.4 * cell <= 400)   # assembly time\n",
    "m.add_constraint(0.5 * desk + 0.4 * cell <= 490)   # paiting time\n",
    "\n",
    "# 目标表达式\n",
    "m.maximize(12*desk+20*cell)\n",
    "m.print_information() # 打印建模信息\n",
    "# 求解\n",
    "solution = m.solve()\n",
    "# 打印求解\n",
    "print(solution)\n",
    "\n"
   ]
  },
  {
   "cell_type": "markdown",
   "id": "a2caabbc",
   "metadata": {},
   "source": [
    "### Infeasible model \n",
    "* Calling `solve()` on an infeasible model returns `None`. \n",
    "* `get_var_by_name()`"
   ]
  },
  {
   "cell_type": "code",
   "execution_count": 6,
   "id": "1a3fabb4",
   "metadata": {
    "ExecuteTime": {
     "end_time": "2025-04-12T06:36:52.062269Z",
     "start_time": "2025-04-12T06:36:52.049269Z"
    }
   },
   "outputs": [
    {
     "name": "stdout",
     "output_type": "stream",
     "text": [
      "Model: Copy of demo\n",
      " - number of variables: 2\n",
      "   - binary=0, integer=0, continuous=2\n",
      " - number of constraints: 4\n",
      "   - linear=4\n",
      " - parameters: defaults\n",
      " - problem type is: LP\n",
      "model is infeasible\n"
     ]
    }
   ],
   "source": [
    "# make a new model,copy of m\n",
    "im = m.copy() # 复制模型\n",
    "# get the \"desk\" var of the new model from its name\n",
    "idesk = im.get_var_by_name(\"desk\") # 获取新的引用\n",
    "# add a new infeasible cons\n",
    "im.add_constraint(idesk>=1100);\n",
    "# solve the new proble, we expect a result of None \n",
    "im.print_information(); # 打印建模信息\n",
    "ims = im.solve()\n",
    "if ims is None:\n",
    "    print(\"model is infeasible\")\n",
    "else:\n",
    "    print(ims)\n",
    "\n",
    "# help(m.get_var_by_name)"
   ]
  },
  {
   "cell_type": "markdown",
   "id": "a15915a60b28a4ed",
   "metadata": {},
   "source": [
    "### 松弛设置relaxation\n",
    "在 LP 模型中，\"松弛 \"一词指的是改变约束条件的右边，以允许违反原来的约束条件。<br>\n",
    "**约束**分为**hard constraint**和**soft constraint**:\n",
    "* 硬约束在任何情况下都不能违反。到目前为止，我们遇到的所有约束都是硬约束。\n",
    "* 软约束是指在某些情况下可以违反的约束。\n",
    "\n",
    "#### Converting hard constraints to soft 硬软转换<br>\n",
    "原始: \n",
    "$$0.2*desk+0.4*cell<=400$$\n",
    "加班40h需要额外费用但是可以承受\n",
    "$$0.2*desk+0.4*cell<=400+overtime$$\n",
    "$$overtime<=40$$\n",
    "在加上增加的惩罚软约束\n",
    "$$maximize(12*desk+20*cell-2*overtime)$$\n",
    "2是加班装配的单位时间成本\n"
   ]
  },
  {
   "cell_type": "code",
   "execution_count": null,
   "id": "069968b9",
   "metadata": {},
   "outputs": [],
   "source": []
  },
  {
   "cell_type": "code",
   "execution_count": 2,
   "id": "8f23d179",
   "metadata": {},
   "outputs": [
    {
     "name": "stdout",
     "output_type": "stream",
     "text": [
      "Model: demo\n",
      " - number of variables: 3\n",
      "   - binary=0, integer=0, continuous=3\n",
      " - number of constraints: 4\n",
      "   - linear=4\n",
      " - parameters: defaults\n",
      " - problem type is: LP\n",
      "solution for: demo\n",
      "objective: 22253.3\n",
      "desk=166.667\n",
      "cell=1016.667\n",
      "overtime=40.000\n",
      "\n"
     ]
    }
   ],
   "source": [
    "from docplex.mp.model import Model \n",
    "m = Model(name=\"demo\") \n",
    "\n",
    "desk = m.continuous_var(name=\"desk\",lb=0)  # 定义连续变量desk，表示桌子的生产量\n",
    "cell = m.continuous_var(name=\"cell\",lb=0)  # 定义连续变量cell，表示手机的生产量\n",
    "overtime =m.continuous_var(name=\"overtime\",ub=40)\n",
    "m.add_constraint(desk >= 100)  \n",
    "m.add_constraint(cell >= 100)  \n",
    "\n",
    "m.add_constraint(0.2 * desk + 0.4 * cell <= 400+overtime)   # assembly time\n",
    "m.add_constraint(0.5 * desk + 0.4 * cell <= 490)   # paiting time\n",
    "\n",
    "# 目标表达式\n",
    "m.maximize(12*desk+20*cell-2*overtime) #2是成本惩罚系数\n",
    "m.print_information(); # 打印建模信息\n",
    "# 求解\n",
    "solution = m.solve()\n",
    "# 打印求解\n",
    "print(solution)\n",
    "\n",
    "\n"
   ]
  },
  {
   "cell_type": "code",
   "execution_count": null,
   "id": "1864ed64",
   "metadata": {},
   "outputs": [],
   "source": []
  }
 ],
 "metadata": {
  "kernelspec": {
   "display_name": "cplex",
   "language": "python",
   "name": "python3"
  },
  "language_info": {
   "codemirror_mode": {
    "name": "ipython",
    "version": 3
   },
   "file_extension": ".py",
   "mimetype": "text/x-python",
   "name": "python",
   "nbconvert_exporter": "python",
   "pygments_lexer": "ipython3",
   "version": "3.7.1"
  }
 },
 "nbformat": 4,
 "nbformat_minor": 5
}
