{
 "cells": [
  {
   "cell_type": "markdown",
   "id": "initial_id",
   "metadata": {
    "collapsed": true,
    "jupyter": {
     "outputs_hidden": true
    }
   },
   "source": [
    "## DOcplex modelling 案例"
   ]
  },
  {
   "cell_type": "code",
   "execution_count": 2,
   "id": "a1a5de0d",
   "metadata": {
    "ExecuteTime": {
     "end_time": "2025-03-03T02:28:10.315002Z",
     "start_time": "2025-03-03T02:28:10.301180Z"
    }
   },
   "outputs": [],
   "source": [
    "from docplex.mp.model import Model"
   ]
  },
  {
   "cell_type": "markdown",
   "id": "8ac569e9-b119-4497-91ce-1d01f4647258",
   "metadata": {},
   "source": [
    "### 一个NLP(non-linear programming)例子\n",
    "$$\n",
    "\\text{Maximize } Z = x_1 + x_2\n",
    "$$\n",
    "$$\n",
    "\\text{Subject to:}\n",
    "$$\n",
    "$$\n",
    "\\begin{align}\n",
    "1. & \\quad x_1 + x_2 \\leq 10 \\\\\n",
    "& \\quad x_1 \\cdot x_2 \\geq 10 \\\\\n",
    "3. & \\quad x_1 \\geq 0 \\\\\n",
    "& \\quad x_2 \\geq 0 \\\\\n",
    "\\end{align}\n",
    "$$"
   ]
  },
  {
   "cell_type": "code",
   "execution_count": 3,
   "id": "913dafaf",
   "metadata": {
    "ExecuteTime": {
     "end_time": "2025-03-03T02:28:14.380759Z",
     "start_time": "2025-03-03T02:28:14.352742Z"
    }
   },
   "outputs": [
    {
     "name": "stdout",
     "output_type": "stream",
     "text": [
      "solution is found\n",
      "x1:4.9999999966802555,x2:4.9999999966802555\n",
      "objective value:9.999999993360511\n"
     ]
    }
   ],
   "source": [
    "\n",
    "# 创建一个模型\n",
    "mdl = Model(name=\"this is a demo \") # 创建一个模型\n",
    "# 定义决策变量\n",
    "x1 = mdl.continuous_var(name = 'x1',lb=0) # 先定义决策变量,在定义目标函数\n",
    "x2 = mdl.continuous_var(name = \"x2\",lb=0)\n",
    "# 定义目标函数\n",
    "mdl.maximize(x1 + x2)\n",
    "# 定义约束\n",
    "mdl.add_constraint(x1 + x2 <= 10)\n",
    "mdl.add_constraint(x1*x2 >= 10)\n",
    "# 求解模型\n",
    "solution = mdl.solve()\n",
    "# 输出结果\n",
    "if solution:\n",
    "    print(\"solution is found\")\n",
    "    print(f\"x1:{x1.solution_value},x2:{x2.solution_value}\")\n",
    "    print(f\"objective value:{mdl.objective_value}\")\n",
    "else:\n",
    "    print(\"solution is not found\")\n"
   ]
  },
  {
   "cell_type": "markdown",
   "id": "41faf6f2",
   "metadata": {},
   "source": [
    "### 一个IP例子"
   ]
  },
  {
   "cell_type": "code",
   "execution_count": 4,
   "id": "d57da193",
   "metadata": {},
   "outputs": [
    {
     "name": "stdout",
     "output_type": "stream",
     "text": [
      "solution for: Integer Programming\n",
      "objective: 10\n",
      "x1=8\n",
      "x2=2\n",
      "\n"
     ]
    }
   ],
   "source": [
    "mdl = Model(name=\"Integer Programming\")\n",
    "x1 = mdl.integer_var(name=\"x1\")\n",
    "x2 = mdl.integer_var(name=\"x2\")\n",
    "mdl.maximize(x1 + x2)\n",
    "mdl.add_constraint(x1 + x2 <= 10)\n",
    "mdl.add_constraint(x1*x2 >= 10)\n",
    "solution = mdl.solve()\n",
    "print(solution)\n"
   ]
  },
  {
   "cell_type": "markdown",
   "id": "6411288b",
   "metadata": {},
   "source": [
    "### MILP"
   ]
  },
  {
   "cell_type": "code",
   "execution_count": 5,
   "id": "d795f7ba",
   "metadata": {},
   "outputs": [
    {
     "name": "stdout",
     "output_type": "stream",
     "text": [
      "x1 = 40.0, x2 = 20.0\n"
     ]
    }
   ],
   "source": [
    "from docplex.mp.model import Model\n",
    "\n",
    "model = Model(name=\"mixed_integer_programming_example\")\n",
    "\n",
    "# 定义决策变量（一个连续，一个整数）\n",
    "x1 = model.continuous_var(name=\"x1\")\n",
    "x2 = model.integer_var(name=\"x2\")\n",
    "\n",
    "# 设置目标函数\n",
    "model.maximize(5 * x1 + 3 * x2)\n",
    "\n",
    "# 添加约束条件\n",
    "model.add_constraint(2 * x1 + x2 <= 100)\n",
    "model.add_constraint(x1 + 2 * x2 <= 80)\n",
    "\n",
    "# 求解\n",
    "solution = model.solve()\n",
    "if solution:\n",
    "    print(f\"x1 = {x1.solution_value}, x2 = {x2.solution_value}\")\n"
   ]
  },
  {
   "cell_type": "markdown",
   "id": "27798fe5",
   "metadata": {},
   "source": [
    "### QP"
   ]
  },
  {
   "cell_type": "code",
   "execution_count": 6,
   "id": "2d176084",
   "metadata": {},
   "outputs": [
    {
     "name": "stdout",
     "output_type": "stream",
     "text": [
      "x1 = 0, x2 = 5.0\n"
     ]
    }
   ],
   "source": [
    "from docplex.mp.model import Model\n",
    "\n",
    "model = Model(name=\"quadratic_programming_example\")\n",
    "\n",
    "# 定义决策变量\n",
    "x1 = model.continuous_var(name=\"x1\")\n",
    "x2 = model.continuous_var(name=\"x2\")\n",
    "\n",
    "# 设置二次目标函数\n",
    "model.minimize(x1 * x1 + x2 * x2 + 2 * x1 * x2)\n",
    "\n",
    "# 添加约束条件\n",
    "model.add_constraint(x1 + x2 >= 5)\n",
    "\n",
    "# 求解\n",
    "solution = model.solve()\n",
    "if solution:\n",
    "    print(f\"x1 = {x1.solution_value}, x2 = {x2.solution_value}\")\n"
   ]
  },
  {
   "cell_type": "markdown",
   "id": "6764189b",
   "metadata": {},
   "source": [
    "## Advanced Method"
   ]
  },
  {
   "cell_type": "markdown",
   "id": "7bdba3cd",
   "metadata": {},
   "source": [
    "### 加权和法"
   ]
  },
  {
   "cell_type": "markdown",
   "id": "ad7c17e6",
   "metadata": {},
   "source": [
    "原理:\n",
    "将多个目标函数通过加权系统合并为一个单一目标函数，权重反映每个目标的相对重要性。\n",
    "\n",
    "数学形式:\n",
    "$$ \\text{Maximize } w_1f_1(x) + w_2f_2(x) $$\n",
    "\n",
    "其中:\n",
    "- $w_1, w_2$: 权重，$w_1 + w_2 = 1$ (通常归一化)\n",
    "- 假设 $f_1$ 是利润，$f_2$ 是成本，则可能需要取负值（如 $-f_2$）统一方向。\n",
    "\n",
    "示例:\n",
    "问题：最大化利润 $5x_1 + 3x_2$，同时最小化成本 $2x_1 + 4x_2$\n",
    "\n",
    "约束：$x_1 + x_2 \\leq 10$"
   ]
  },
  {
   "cell_type": "code",
   "execution_count": 7,
   "id": "9aff5435",
   "metadata": {},
   "outputs": [
    {
     "name": "stdout",
     "output_type": "stream",
     "text": [
      "x1 = 10.0, x2 = 0\n",
      "Profit = 10.0, Cost = 0\n",
      "Combined Objective = 29.0\n"
     ]
    }
   ],
   "source": [
    "from docplex.mp.model import Model\n",
    "mdl = Model(name=\"加权和法\")\n",
    "\n",
    "x1 = mdl.continuous_var(name='x1',lb=0)\n",
    "x2 = mdl.continuous_var(name=\"x2\",lb=0)\n",
    "\n",
    "objective1 = 5*x1+3*x2\n",
    "objective2 = 2*x1+4*x2\n",
    "\n",
    "w1,w2 = 0.7,0.3 # 分配权重\n",
    "\n",
    "combined_objective = w1*objective1 - w2*objective2 # 利润-成本\n",
    "\n",
    "mdl.maximize(combined_objective)\n",
    "\n",
    "\n",
    "mdl.add_constraint(x1+x2<=10)\n",
    "\n",
    "solution = mdl.solve()\n",
    "if solution:\n",
    "    print(f\"x1 = {x1.solution_value}, x2 = {x2.solution_value}\")\n",
    "    print(f\"Profit = {x1.solution_value}, Cost = {x2.solution_value}\")\n",
    "    print(f\"Combined Objective = {mdl.objective_value}\")\n",
    "\n"
   ]
  },
  {
   "cell_type": "markdown",
   "id": "83841fb8",
   "metadata": {},
   "source": [
    "### 分层优化法 *Lexicographic Method*\n",
    "\n",
    "当目标有明确的优先级时，可以使用分层优化法，先优化最高优先级的目标，然后在保持其最优解的前提下优化次级目标。\n",
    "* 先优化最高优先级目标，得到最优值。\n",
    "* 将该目标值作为约束，优化次级目标。\n",
    "ex: 先最大化利润$5x_1+3x_2$,然后在最大化利润的前提下最小化成本$2x_1+4x_2$ <br>\n",
    "cons:$x_1+x_2<=10$"
   ]
  },
  {
   "cell_type": "code",
   "execution_count": 13,
   "id": "18160bf2",
   "metadata": {},
   "outputs": [
    {
     "name": "stdout",
     "output_type": "stream",
     "text": [
      "Step 1: Optimal Profit = 50.0\n",
      "Step 2 Below:\n",
      "x1 = 10.0, x2 = 0\n",
      "Profit = 50.0, Cost = 20.0\n"
     ]
    }
   ],
   "source": [
    "from docplex.mp.model import Model\n",
    "# 第一步：最大化利润\n",
    "model1 = Model(name=\"第一次建模求取最大利润\")\n",
    "x1 = model1.continuous_var(name='x1',lb = 0)\n",
    "x2 = model1.continuous_var(name=\"x2\",lb = 0)\n",
    "profit = 5*x1+3*x2\n",
    "model1.maximize(profit)\n",
    "model1.add_constraint(x1 + x2 <= 10)\n",
    "solution1 = model1.solve()\n",
    "best_profit = model1.objective_value # porfit \n",
    "print(f\"Step 1: Optimal Profit = {best_profit}\")\n",
    "\n",
    "#第二步：在利润最优下最小化成本\n",
    "model2 = Model(name=\"min cost\")\n",
    "x1 = model2.continuous_var(name=\"x1\")\n",
    "x2 = model2.continuous_var(name=\"x2\")\n",
    "profit = 5 * x1 + 3 * x2\n",
    "cost = 2 * x1 + 4 * x2\n",
    "\n",
    "model2.minimize(cost)\n",
    "model2.add_constraint(x1 + x2 <= 10)\n",
    "model2.add_constraint(profit>= best_profit) # 保证利润最优\n",
    "\n",
    "solution2 = model2.solve()\n",
    "if solution2:\n",
    "    print(\"Step 2 Below:\")\n",
    "    print(f\"x1 = {x1.solution_value}, x2 = {x2.solution_value}\")\n",
    "    print(f\"Profit = {profit.solution_value}, Cost = {cost.solution_value}\")\n"
   ]
  },
  {
   "cell_type": "markdown",
   "id": "57f69c84",
   "metadata": {},
   "source": [
    "## 软约束教学\n",
    "数学建模见ob"
   ]
  },
  {
   "cell_type": "markdown",
   "id": "f4e870f3",
   "metadata": {},
   "source": []
  },
  {
   "cell_type": "code",
   "execution_count": null,
   "id": "93f2e23d",
   "metadata": {},
   "outputs": [],
   "source": []
  },
  {
   "cell_type": "markdown",
   "id": "6d628da6636e5938",
   "metadata": {},
   "source": []
  }
 ],
 "metadata": {
  "kernelspec": {
   "display_name": "GUOYANG",
   "language": "python",
   "name": "python3"
  },
  "language_info": {
   "codemirror_mode": {
    "name": "ipython",
    "version": 3
   },
   "file_extension": ".py",
   "mimetype": "text/x-python",
   "name": "python",
   "nbconvert_exporter": "python",
   "pygments_lexer": "ipython3",
   "version": "3.9.21"
  }
 },
 "nbformat": 4,
 "nbformat_minor": 5
}
